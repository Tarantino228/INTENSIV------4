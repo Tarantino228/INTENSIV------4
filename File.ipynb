{
 "cells": [
  {
   "cell_type": "code",
   "execution_count": null,
   "id": "e81af0ed",
   "metadata": {},
   "outputs": [],
   "source": [
    "import pandas as pd\n",
    "import json"
   ]
  },
  {
   "cell_type": "code",
   "execution_count": null,
   "id": "688c0d97",
   "metadata": {},
   "outputs": [],
   "source": [
    "df = pd.read_csv('comments_procces.csv')\n",
    "\n",
    "columns_to_drop = ['lead_time', 'updated_at', 'created_at', \"annotator\"]\n",
    "df = df.drop(columns=columns_to_drop, errors='ignore')\n",
    "\n",
    "display(df.head())"
   ]
  },
  {
   "cell_type": "code",
   "execution_count": null,
   "id": "540cb33d",
   "metadata": {},
   "outputs": [],
   "source": [
    "print(\"Общая информация о данных:\")\n",
    "df.info()"
   ]
  },
  {
   "cell_type": "code",
   "execution_count": null,
   "id": "742c597c",
   "metadata": {},
   "outputs": [],
   "source": [
    "categories = [\n",
    "    \"Нравится скорость отработки заявок\",\n",
    "    \"Нравится качество выполнения заявки\",\n",
    "    \"Нравится качество работы сотрудников\",\n",
    "    \"Понравилось выполнение заявки\",\n",
    "    \"Вопрос решен\",\n",
    "    \"Другое\"\n",
    "]\n",
    "\n",
    "for category in categories:\n",
    "    if category not in df.columns:\n",
    "        df[category] = 0\n",
    "\n",
    "def extract_categories(taxonomy_str):\n",
    "    try:\n",
    "        data = json.loads(taxonomy_str)\n",
    "        cats = []\n",
    "        if isinstance(data, list):\n",
    "            for item in data:\n",
    "                if isinstance(item, dict) and 'taxonomy' in item:\n",
    "                    nested = item['taxonomy']\n",
    "                    if isinstance(nested, list):\n",
    "                        for sublist in nested:\n",
    "                            if isinstance(sublist, list):\n",
    "                                cats.extend(sublist)\n",
    "        return [cat.strip() for cat in cats]\n",
    "    except:\n",
    "        return []\n",
    "\n",
    "for idx, row in df.iterrows():\n",
    "    cats_in_cell = extract_categories(row['taxonomy'])\n",
    "    for category in categories:\n",
    "        df.at[idx, category] = 1 if category in cats_in_cell else 0\n",
    "\n",
    "print(\"Обработка завершена.\")"
   ]
  },
  {
   "cell_type": "code",
   "execution_count": null,
   "id": "6b2b2fd2",
   "metadata": {},
   "outputs": [],
   "source": [
    "df = df.drop_duplicates(subset=['comment'])\n",
    "\n",
    "if 'taxonomy' in df.columns:\n",
    "    df = df.drop(columns=['taxonomy'])"
   ]
  },
  {
   "cell_type": "code",
   "execution_count": null,
   "id": "9a3ae518",
   "metadata": {},
   "outputs": [],
   "source": [
    "df = pd.read_csv('comments_processed_time.csv')\n",
    "\n",
    "columns = [\n",
    "    'Нравится скорость отработки заявок',\n",
    "    'Нравится качество выполнения заявки',\n",
    "    'Нравится качество работы сотрудников',\n",
    "    'Понравилось выполнение заявки',\n",
    "    'Вопрос решен',\n",
    "    'Другое'\n",
    "]\n",
    "\n",
    "for col in columns:\n",
    "    if col in df.columns:\n",
    "        count_ones = (df[col] == 1).sum()\n",
    "        print(f\"Статистика по столбцу: {col}: {count_ones}\")\n",
    "    else:\n",
    "        print(f\"Столбец '{col}' не найден в файле.\")"
   ]
  }
 ],
 "metadata": {
  "language_info": {
   "name": "python"
  }
 },
 "nbformat": 4,
 "nbformat_minor": 5
}
