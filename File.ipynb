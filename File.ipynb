{
 "cells": [
  {
   "cell_type": "code",
   "execution_count": 9,
   "id": "e81af0ed",
   "metadata": {},
   "outputs": [],
   "source": [
    "import pandas as pd\n",
    "import json"
   ]
  },
  {
   "cell_type": "code",
   "execution_count": 10,
   "id": "688c0d97",
   "metadata": {},
   "outputs": [
    {
     "data": {
      "text/html": [
       "<div>\n",
       "<style scoped>\n",
       "    .dataframe tbody tr th:only-of-type {\n",
       "        vertical-align: middle;\n",
       "    }\n",
       "\n",
       "    .dataframe tbody tr th {\n",
       "        vertical-align: top;\n",
       "    }\n",
       "\n",
       "    .dataframe thead th {\n",
       "        text-align: right;\n",
       "    }\n",
       "</style>\n",
       "<table border=\"1\" class=\"dataframe\">\n",
       "  <thead>\n",
       "    <tr style=\"text-align: right;\">\n",
       "      <th></th>\n",
       "      <th>annotation_id</th>\n",
       "      <th>comment</th>\n",
       "      <th>id</th>\n",
       "      <th>rating</th>\n",
       "      <th>taxonomy</th>\n",
       "      <th>Вопрос решен</th>\n",
       "      <th>Нравится качество выполнения заявки</th>\n",
       "      <th>Нравится качество работы сотрудников</th>\n",
       "      <th>Нравится скорость отработки заявок</th>\n",
       "      <th>Понравилось выполнение заявки</th>\n",
       "    </tr>\n",
       "  </thead>\n",
       "  <tbody>\n",
       "    <tr>\n",
       "      <th>0</th>\n",
       "      <td>101</td>\n",
       "      <td>спасибо</td>\n",
       "      <td>2945792</td>\n",
       "      <td>5</td>\n",
       "      <td>[{\"taxonomy\":[[\"Вопрос решен\"]]}]</td>\n",
       "      <td>NaN</td>\n",
       "      <td>NaN</td>\n",
       "      <td>NaN</td>\n",
       "      <td>NaN</td>\n",
       "      <td>NaN</td>\n",
       "    </tr>\n",
       "    <tr>\n",
       "      <th>1</th>\n",
       "      <td>102</td>\n",
       "      <td>спасибо!</td>\n",
       "      <td>3234340</td>\n",
       "      <td>5</td>\n",
       "      <td>[{\"taxonomy\":[[\"Вопрос решен\"]]}]</td>\n",
       "      <td>NaN</td>\n",
       "      <td>NaN</td>\n",
       "      <td>NaN</td>\n",
       "      <td>NaN</td>\n",
       "      <td>NaN</td>\n",
       "    </tr>\n",
       "    <tr>\n",
       "      <th>2</th>\n",
       "      <td>103</td>\n",
       "      <td>Отлично</td>\n",
       "      <td>3380332</td>\n",
       "      <td>5</td>\n",
       "      <td>[{\"taxonomy\":[[\"Вопрос решен\"]]}]</td>\n",
       "      <td>NaN</td>\n",
       "      <td>NaN</td>\n",
       "      <td>NaN</td>\n",
       "      <td>NaN</td>\n",
       "      <td>NaN</td>\n",
       "    </tr>\n",
       "    <tr>\n",
       "      <th>3</th>\n",
       "      <td>104</td>\n",
       "      <td>Благодарю за оперативное решение проблемы !</td>\n",
       "      <td>3381812</td>\n",
       "      <td>5</td>\n",
       "      <td>[{\"taxonomy\":[[\"Нравится скорость отработки за...</td>\n",
       "      <td>NaN</td>\n",
       "      <td>NaN</td>\n",
       "      <td>NaN</td>\n",
       "      <td>NaN</td>\n",
       "      <td>NaN</td>\n",
       "    </tr>\n",
       "    <tr>\n",
       "      <th>4</th>\n",
       "      <td>105</td>\n",
       "      <td>Прекрасный специалист! Побольше таких</td>\n",
       "      <td>3461991</td>\n",
       "      <td>5</td>\n",
       "      <td>[{\"taxonomy\":[[\"Нравится качество работы сотру...</td>\n",
       "      <td>NaN</td>\n",
       "      <td>NaN</td>\n",
       "      <td>NaN</td>\n",
       "      <td>NaN</td>\n",
       "      <td>NaN</td>\n",
       "    </tr>\n",
       "  </tbody>\n",
       "</table>\n",
       "</div>"
      ],
      "text/plain": [
       "   annotation_id                                       comment       id  \\\n",
       "0            101                                       спасибо  2945792   \n",
       "1            102                                      спасибо!  3234340   \n",
       "2            103                                      Отлично   3380332   \n",
       "3            104  Благодарю за оперативное решение проблемы !   3381812   \n",
       "4            105         Прекрасный специалист! Побольше таких  3461991   \n",
       "\n",
       "   rating                                           taxonomy  Вопрос решен  \\\n",
       "0       5                  [{\"taxonomy\":[[\"Вопрос решен\"]]}]           NaN   \n",
       "1       5                  [{\"taxonomy\":[[\"Вопрос решен\"]]}]           NaN   \n",
       "2       5                  [{\"taxonomy\":[[\"Вопрос решен\"]]}]           NaN   \n",
       "3       5  [{\"taxonomy\":[[\"Нравится скорость отработки за...           NaN   \n",
       "4       5  [{\"taxonomy\":[[\"Нравится качество работы сотру...           NaN   \n",
       "\n",
       "   Нравится качество выполнения заявки  Нравится качество работы сотрудников  \\\n",
       "0                                  NaN                                   NaN   \n",
       "1                                  NaN                                   NaN   \n",
       "2                                  NaN                                   NaN   \n",
       "3                                  NaN                                   NaN   \n",
       "4                                  NaN                                   NaN   \n",
       "\n",
       "   Нравится скорость отработки заявок  Понравилось выполнение заявки  \n",
       "0                                 NaN                            NaN  \n",
       "1                                 NaN                            NaN  \n",
       "2                                 NaN                            NaN  \n",
       "3                                 NaN                            NaN  \n",
       "4                                 NaN                            NaN  "
      ]
     },
     "metadata": {},
     "output_type": "display_data"
    }
   ],
   "source": [
    "df = pd.read_csv('razmetka_komentov.csv.csv')\n",
    "\n",
    "columns_to_drop = ['lead_time', 'updated_at', 'created_at', \"annotator\"]\n",
    "df = df.drop(columns=columns_to_drop, errors='ignore')\n",
    "\n",
    "display(df.head())"
   ]
  },
  {
   "cell_type": "code",
   "execution_count": 11,
   "id": "540cb33d",
   "metadata": {},
   "outputs": [
    {
     "name": "stdout",
     "output_type": "stream",
     "text": [
      "Общая информация о данных:\n",
      "<class 'pandas.core.frame.DataFrame'>\n",
      "RangeIndex: 798 entries, 0 to 797\n",
      "Data columns (total 10 columns):\n",
      " #   Column                                Non-Null Count  Dtype  \n",
      "---  ------                                --------------  -----  \n",
      " 0   annotation_id                         798 non-null    int64  \n",
      " 1   comment                               798 non-null    object \n",
      " 2   id                                    798 non-null    int64  \n",
      " 3   rating                                798 non-null    int64  \n",
      " 4   taxonomy                              798 non-null    object \n",
      " 5   Вопрос решен                          0 non-null      float64\n",
      " 6   Нравится качество выполнения заявки   0 non-null      float64\n",
      " 7   Нравится качество работы сотрудников  0 non-null      float64\n",
      " 8   Нравится скорость отработки заявок    0 non-null      float64\n",
      " 9   Понравилось выполнение заявки         0 non-null      float64\n",
      "dtypes: float64(5), int64(3), object(2)\n",
      "memory usage: 62.5+ KB\n"
     ]
    }
   ],
   "source": [
    "print(\"Общая информация о данных:\")\n",
    "df.info()"
   ]
  },
  {
   "cell_type": "code",
   "execution_count": 12,
   "id": "742c597c",
   "metadata": {},
   "outputs": [
    {
     "name": "stdout",
     "output_type": "stream",
     "text": [
      "Обработка завершена.\n"
     ]
    }
   ],
   "source": [
    "categories = [\n",
    "    \"Нравится скорость отработки заявок\",\n",
    "    \"Нравится качество выполнения заявки\",\n",
    "    \"Нравится качество работы сотрудников\",\n",
    "    \"Понравилось выполнение заявки\",\n",
    "    \"Вопрос решен\",\n",
    "    \"Другое\"\n",
    "]\n",
    "\n",
    "for category in categories:\n",
    "    if category not in df.columns:\n",
    "        df[category] = 0\n",
    "\n",
    "def extract_categories(taxonomy_str):\n",
    "    try:\n",
    "        data = json.loads(taxonomy_str)\n",
    "        cats = []\n",
    "        if isinstance(data, list):\n",
    "            for item in data:\n",
    "                if isinstance(item, dict) and 'taxonomy' in item:\n",
    "                    nested = item['taxonomy']\n",
    "                    if isinstance(nested, list):\n",
    "                        for sublist in nested:\n",
    "                            if isinstance(sublist, list):\n",
    "                                cats.extend(sublist)\n",
    "        return [cat.strip() for cat in cats]\n",
    "    except:\n",
    "        return []\n",
    "\n",
    "for idx, row in df.iterrows():\n",
    "    cats_in_cell = extract_categories(row['taxonomy'])\n",
    "    for category in categories:\n",
    "        df.at[idx, category] = 1 if category in cats_in_cell else 0\n",
    "\n",
    "print(\"Обработка завершена.\")"
   ]
  },
  {
   "cell_type": "code",
   "execution_count": 16,
   "id": "6b2b2fd2",
   "metadata": {},
   "outputs": [],
   "source": [
    "df = df.drop_duplicates(subset=['comment'])\n",
    "\n",
    "if 'taxonomy' in df.columns:\n",
    "    df = df.drop(columns=['taxonomy'])"
   ]
  },
  {
   "cell_type": "code",
   "execution_count": 17,
   "id": "f4a28e46",
   "metadata": {},
   "outputs": [],
   "source": [
    "# сохранение в CSV\n",
    "df.to_csv('Razmetka_Koments.csv', index=False, encoding='utf-8')\n"
   ]
  },
  {
   "cell_type": "code",
   "execution_count": 18,
   "id": "9a3ae518",
   "metadata": {},
   "outputs": [
    {
     "name": "stdout",
     "output_type": "stream",
     "text": [
      "Статистика по столбцу: Нравится скорость отработки заявок: 248\n",
      "Статистика по столбцу: Нравится качество выполнения заявки: 44\n",
      "Статистика по столбцу: Нравится качество работы сотрудников: 152\n",
      "Статистика по столбцу: Понравилось выполнение заявки: 104\n",
      "Статистика по столбцу: Вопрос решен: 245\n",
      "Статистика по столбцу: Другое: 39\n"
     ]
    }
   ],
   "source": [
    "df = pd.read_csv('Razmetka_Koments.csv')\n",
    "\n",
    "columns = [\n",
    "    'Нравится скорость отработки заявок',\n",
    "    'Нравится качество выполнения заявки',\n",
    "    'Нравится качество работы сотрудников',\n",
    "    'Понравилось выполнение заявки',\n",
    "    'Вопрос решен',\n",
    "    'Другое'\n",
    "]\n",
    "\n",
    "for col in columns:\n",
    "    if col in df.columns:\n",
    "        count_ones = (df[col] == 1).sum()\n",
    "        print(f\"Статистика по столбцу: {col}: {count_ones}\")\n",
    "    else:\n",
    "        print(f\"Столбец '{col}' не найден в файле.\")"
   ]
  },
  {
   "cell_type": "code",
   "execution_count": 1,
   "id": "237e6fe5",
   "metadata": {},
   "outputs": [
    {
     "data": {
      "image/png": "[encoded data removed]",
      "text/plain": [
       "<Figure size 1000x600 with 1 Axes>"
      ]
     },
     "metadata": {},
     "output_type": "display_data"
    }
   ],
   "source": [
    "import pandas as pd\n",
    "import matplotlib.pyplot as plt\n",
    "\n",
    "# Загрузка данных\n",
    "df = pd.read_csv('Razmetka_Koments.csv', encoding='utf-8')\n",
    "\n",
    "# Группировка по рейтингу и подсчет количества комментариев\n",
    "rating_counts = df['rating'].value_counts().sort_index()\n",
    "\n",
    "# Создание графика\n",
    "plt.figure(figsize=(10, 6))\n",
    "bars = plt.bar(rating_counts.index, rating_counts.values, color='skyblue')\n",
    "\n",
    "# Добавление подписей\n",
    "plt.title('Распределение комментариев по рейтингу', fontsize=14)\n",
    "plt.xlabel('Рейтинг', fontsize=12)\n",
    "plt.ylabel('Количество комментариев', fontsize=12)\n",
    "plt.xticks(rating_counts.index)\n",
    "plt.grid(axis='y', linestyle='--', alpha=0.7)\n",
    "\n",
    "# Добавление значений над столбцами\n",
    "for bar in bars:\n",
    "    height = bar.get_height()\n",
    "    plt.text(bar.get_x() + bar.get_width()/2., height,\n",
    "             f'{height}',\n",
    "             ha='center', va='bottom')\n",
    "\n",
    "plt.show()"
   ]
  }
 ],
 "metadata": {
  "kernelspec": {
   "display_name": "Python 3",
   "language": "python",
   "name": "python3"
  },
  "language_info": {
   "codemirror_mode": {
    "name": "ipython",
    "version": 3
   },
   "file_extension": ".py",
   "mimetype": "text/x-python",
   "name": "python",
   "nbconvert_exporter": "python",
   "pygments_lexer": "ipython3",
   "version": "3.11.9"
  }
 },
 "nbformat": 4,
 "nbformat_minor": 5
}
